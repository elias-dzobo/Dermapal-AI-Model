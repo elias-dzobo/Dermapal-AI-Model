{
 "cells": [
  {
   "cell_type": "code",
   "execution_count": null,
   "metadata": {},
   "outputs": [],
   "source": [
    "!wget https://raw.githubusercontent.com/mattgroh/fitzpatrick17k/main/fitzpatrick17k.csv"
   ]
  },
  {
   "cell_type": "code",
   "execution_count": null,
   "metadata": {},
   "outputs": [],
   "source": [
    "import requests\n",
    "import shutil\n",
    "def download_image(image_url, file_place):\n",
    "    res = requests.get(image_url, stream=True, headers={'User-Agent': \"Mozilla/5.0 (Macintosh; Intel Mac OS X 10_15_7) AppleWebKit/537.36 (KHTML, like Gecko) Chrome/108.0.0.0 Safari/537.36\"})\n",
    "    if res.status_code == 200:\n",
    "        with open(file_place, 'wb') as f:\n",
    "          shutil.copyfileobj(res.raw, f)\n",
    "        # print(\"Image successfully downloaded\", file_place)\n",
    "    else:\n",
    "        print(\"image coulnd't be retrieved\")"
   ]
  },
  {
   "cell_type": "code",
   "execution_count": null,
   "metadata": {},
   "outputs": [],
   "source": [
    "import pandas as pd\n",
    "df = pd.read_csv(\"fitzpatrick17k.csv\")\n",
    "sources = []\n",
    "for url in df['url']:\n",
    "    if type(url) == float:\n",
    "        sources.append('nan')\n",
    "        continue\n",
    "    if url.startswith(\"https://www.dermaamin.com/\"):\n",
    "      sources.append(\"DermaAmin\")\n",
    "    else:\n",
    "      sources.append(\"AtlasDermatologico\")\n",
    "\n",
    "df[\"source\"] = sources\n",
    "df.head()"
   ]
  },
  {
   "cell_type": "code",
   "execution_count": null,
   "metadata": {},
   "outputs": [],
   "source": [
    "url = df['url'][0]\n",
    "download_image(url, \"image.jpg\")"
   ]
  },
  {
   "cell_type": "code",
   "execution_count": null,
   "metadata": {},
   "outputs": [],
   "source": [
    "label_col = \"label\"\n",
    "num_classes = len(df['label'].unique())\n",
    "img_size = 300"
   ]
  },
  {
   "cell_type": "code",
   "execution_count": null,
   "metadata": {},
   "outputs": [],
   "source": [
    "import os\n",
    "import requests\n",
    "from PIL import Image\n",
    "import uuid\n",
    "\n",
    "def download(row, folder):\n",
    "    filedir = folder + \"/\" + row[label_col]\n",
    "    filedir = filedir.replace(\" \", \"_\")\n",
    "\n",
    "    if not os.path.isdir(filedir):\n",
    "        os.system(\"mkdir \" + filedir)\n",
    "\n",
    "    try: \n",
    "        filepath = filedir + \"/\" + str(uuid.uuid4()) + \".jpeg\"\n",
    "        download_image(row[\"url\"], filepath)\n",
    "    except:\n",
    "        print(row['source'], \"failed\")"
   ]
  },
  {
   "cell_type": "code",
   "execution_count": null,
   "metadata": {},
   "outputs": [],
   "source": [
    "def format_string(x):\n",
    "    x = x.replace(\" \", \"_\")\n",
    "    return x \n",
    "\n",
    "\n",
    "df['label'] = df['label'].apply(format_string)\n",
    "\n"
   ]
  },
  {
   "cell_type": "code",
   "execution_count": null,
   "metadata": {},
   "outputs": [],
   "source": [
    "classifications = list(df['label'].unique())\n",
    "len(classifications)"
   ]
  },
  {
   "cell_type": "code",
   "execution_count": null,
   "metadata": {},
   "outputs": [],
   "source": [
    "data = \"Data\"\n",
    "\n",
    "os.system(\"mkdir \" + data) "
   ]
  },
  {
   "cell_type": "code",
   "execution_count": null,
   "metadata": {},
   "outputs": [],
   "source": [
    "for label in classifications:\n",
    "\n",
    "    folder_path = data + \"/\" + label \n",
    "    if not os.path.isdir(folder_path):\n",
    "        os.system(\"mkdir \" + folder_path)\n",
    "\n",
    "    folder_path = folder_path.replace(\" \", \"_\")\n",
    "\n",
    "    folder_df = df[df['label'] == label] \n",
    "\n",
    "    for url in folder_df['url']:\n",
    "        try: \n",
    "            filepath = folder_path + \"/\" + str(uuid.uuid4()) + \".jpeg\"\n",
    "            download_image(url, filepath)\n",
    "        except:\n",
    "            print(\"failed\")\n",
    "\n",
    "    \n",
    "        \n",
    "    "
   ]
  },
  {
   "cell_type": "code",
   "execution_count": null,
   "metadata": {},
   "outputs": [],
   "source": [
    "start_dir = './Data'\n",
    "\n",
    "for folder in os.listdir(start_dir):\n",
    "    if folder.startswith('.'):\n",
    "        continue\n",
    "    print(folder)"
   ]
  },
  {
   "cell_type": "code",
   "execution_count": null,
   "metadata": {},
   "outputs": [],
   "source": [
    "import shutil \n",
    "import PIL \n",
    "import os \n",
    "from PIL import Image \n",
    "\n",
    "\n",
    "train_dir = './train'\n",
    "val_dir = './validation'\n",
    "\n",
    "os.system(\"mkdir \" + train_dir)\n",
    "os.system(\"mkdir \" + val_dir)\n",
    "\n",
    "start_dir = './Data'\n",
    "\n",
    "stack = []\n",
    "test_size = 0.2 \n",
    "\n",
    "\n",
    "\n"
   ]
  },
  {
   "cell_type": "code",
   "execution_count": null,
   "metadata": {},
   "outputs": [],
   "source": [
    "for folder in os.listdir(start_dir):\n",
    "    if folder.startswith('.'):\n",
    "        continue\n",
    "    stack.append(folder) \n",
    "\n",
    "while stack:\n",
    "    cur_dir = stack.pop() \n",
    "    os.system(\"mkdir \" + train_dir + \"/\" + cur_dir)\n",
    "    os.system(\"mkdir \" + val_dir + \"/\" + cur_dir)\n",
    "\n",
    "    n = len(os.listdir(start_dir + \"/\" + cur_dir))\n",
    "    test_n = int(test_size*n) \n",
    "\n",
    "    idx = 0\n",
    "\n",
    "    for file in os.listdir(start_dir+\"/\"+cur_dir):\n",
    "        source = start_dir + \"/\" + cur_dir + \"/\" + file\n",
    "        img = Image.open(source)\n",
    "        try:\n",
    "            img = img.resize((250,250))\n",
    "            img.save(source)\n",
    "            if idx < test_n:\n",
    "                destination = val_dir + \"/\" + cur_dir + \"/\" + file\n",
    "                shutil.copy(source, destination)\n",
    "                print('Moved:', file)\n",
    "                idx += 1\n",
    "            else:\n",
    "                destination = train_dir + \"/\" + cur_dir + \"/\" + file\n",
    "                shutil.copy(source, destination)\n",
    "                print('Moved:', file)\n",
    "                idx += 1\n",
    "        except:\n",
    "            continue\n",
    "\n"
   ]
  },
  {
   "cell_type": "code",
   "execution_count": 1,
   "metadata": {},
   "outputs": [
    {
     "name": "stdout",
     "output_type": "stream",
     "text": [
      "sarcoidosis: 349\n",
      "xeroderma_pigmentosum: 81\n",
      "hidradenitis: 90\n",
      "melanoma: 258\n",
      "psoriasis: 653\n",
      "granuloma_annulare: 211\n",
      "neutrophilic_dermatoses: 361\n",
      "acne_vulgaris: 335\n",
      "kaposi_sarcoma: 156\n",
      "necrobiosis_lipoidica: 123\n",
      "nematode_infection: 260\n",
      "dermatofibroma: 79\n",
      "photodermatoses: 348\n",
      "drug_induced_pigmentary_changes: 71\n",
      "allergic_contact_dermatitis: 430\n",
      "actinic_keratosis: 11\n"
     ]
    }
   ],
   "source": [
    "import os \n",
    "\n",
    "label = []\n",
    "size = []\n",
    "\n",
    "path = './Data'\n",
    "for folder in os.listdir(path):\n",
    "    if folder.startswith('.'):\n",
    "        continue  \n",
    "    count = 0\n",
    "    for file in os.listdir(path + \"/\" + folder):\n",
    "        count += 1\n",
    "\n",
    "    label.append(folder)\n",
    "    size.append(count) \n",
    "\n",
    "    print(folder + \": \" + str(count))\n",
    " \n",
    "        \n",
    "        "
   ]
  },
  {
   "cell_type": "code",
   "execution_count": 3,
   "metadata": {},
   "outputs": [
    {
     "data": {
      "image/png": "[encoded data removed]",
      "text/plain": [
       "<Figure size 800x600 with 1 Axes>"
      ]
     },
     "metadata": {},
     "output_type": "display_data"
    }
   ],
   "source": [
    "import seaborn as sns\n",
    "import matplotlib.pyplot as plt\n",
    "\n",
    "\n",
    "# create barplot with vertical x-axis labels\n",
    "sns.set_style(\"whitegrid\")\n",
    "fig, ax = plt.subplots(figsize=(8, 6))\n",
    "ax = sns.barplot(x=label, y=size)\n",
    "ax.set_xticklabels(label, rotation=90)\n",
    "ax.set_ylabel(\"Count\")\n",
    "ax.set_title(\"Class Label Frequency\")\n",
    "\n",
    "plt.show()\n"
   ]
  },
  {
   "cell_type": "code",
   "execution_count": 4,
   "metadata": {},
   "outputs": [],
   "source": [
    "import PIL\n",
    "import os\n",
    "from PIL import Image"
   ]
  },
  {
   "cell_type": "code",
   "execution_count": 10,
   "metadata": {},
   "outputs": [],
   "source": [
    "def resize(img):\n",
    "    img = Image.open(img)\n",
    "    img = img.resize((224, 224))\n",
    "    img.save(img) \n"
   ]
  },
  {
   "cell_type": "code",
   "execution_count": 13,
   "metadata": {},
   "outputs": [],
   "source": [
    "train = './train/'\n",
    "test = './validation/' \n",
    "\n",
    "def traverse(path):\n",
    "    for folder in os.listdir(path):\n",
    "        if folder.startswith('.'):\n",
    "            continue \n",
    "        img_folder = path + \"/\" + folder \n",
    "        for img in os.listdir(img_folder):\n",
    "            if img[-4] != 'jpeg':\n",
    "                continue \n",
    "            else:\n",
    "                resize(img_folder + \"/\" + img) \n",
    "\n",
    "\n",
    "traverse(train)\n",
    "traverse(test)\n",
    "\n"
   ]
  },
  {
   "cell_type": "code",
   "execution_count": 7,
   "metadata": {},
   "outputs": [],
   "source": [
    "img = Image.open('train/acne_vulgaris/0ad9d775-3b9f-4b46-94a3-6adf6bd362e9.jpeg')\n",
    "\n"
   ]
  },
  {
   "cell_type": "code",
   "execution_count": 9,
   "metadata": {},
   "outputs": [
    {
     "data": {
      "text/plain": [
       "(250, 250)"
      ]
     },
     "execution_count": 9,
     "metadata": {},
     "output_type": "execute_result"
    }
   ],
   "source": [
    "img.size"
   ]
  },
  {
   "cell_type": "code",
   "execution_count": null,
   "metadata": {},
   "outputs": [],
   "source": []
  }
 ],
 "metadata": {
  "kernelspec": {
   "display_name": "Python 3",
   "language": "python",
   "name": "python3"
  },
  "language_info": {
   "codemirror_mode": {
    "name": "ipython",
    "version": 3
   },
   "file_extension": ".py",
   "mimetype": "text/x-python",
   "name": "python",
   "nbconvert_exporter": "python",
   "pygments_lexer": "ipython3",
   "version": "3.9.6"
  },
  "orig_nbformat": 4,
  "vscode": {
   "interpreter": {
    "hash": "aee8b7b246df8f9039afb4144a1f6fd8d2ca17a180786b69acc140d282b71a49"
   }
  }
 },
 "nbformat": 4,
 "nbformat_minor": 2
}
